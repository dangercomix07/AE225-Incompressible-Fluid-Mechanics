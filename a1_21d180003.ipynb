{
  "nbformat": 4,
  "nbformat_minor": 0,
  "metadata": {
    "colab": {
      "provenance": [],
      "authorship_tag": "ABX9TyOiJztQaUocICG8E8MiKm2d",
      "include_colab_link": true
    },
    "kernelspec": {
      "name": "python3",
      "display_name": "Python 3"
    },
    "language_info": {
      "name": "python"
    }
  },
  "cells": [
    {
      "cell_type": "markdown",
      "metadata": {
        "id": "view-in-github",
        "colab_type": "text"
      },
      "source": [
        "<a href=\"https://colab.research.google.com/github/dangercomix07/AE225-Incompressible-Fluid-Mechanics/blob/main/a1_21d180003.ipynb\" target=\"_parent\"><img src=\"https://colab.research.google.com/assets/colab-badge.svg\" alt=\"Open In Colab\"/></a>"
      ]
    },
    {
      "cell_type": "markdown",
      "source": [
        "# **A1: Streamlines, Pathlines and Streaklines**\n",
        "Ameya Marakarkandy 21D180003"
      ],
      "metadata": {
        "id": "k3Y59gZAjbk3"
      }
    },
    {
      "cell_type": "code",
      "execution_count": 2,
      "metadata": {
        "id": "511b7ae5"
      },
      "outputs": [],
      "source": [
        "%matplotlib inline\n",
        "import matplotlib.pyplot as plt\n",
        "import numpy as np\n",
        "from scipy.integrate import odeint"
      ]
    },
    {
      "cell_type": "markdown",
      "source": [
        "1) Consider the velocity field given by:\n",
        "> 𝑢=((𝑥2−𝑦2−1)(𝑥2−𝑦2)+4𝑥2𝑦2)/𝑟4\n",
        "\n",
        "> 𝑣=−2𝑥𝑦/𝑟4\n",
        "\n",
        ">𝑟=sqrt(𝑥2+𝑦2)\n",
        "\n",
        "Further, set 𝑢,𝑣 be set to zero when 𝑟<1. \n",
        "\n",
        "Plot the velocity field using lines with arrows. Plot the streamlines. also \n",
        "\n",
        "---\n",
        "\n",
        "plot path lines and streaklines for 10 points that start from the line x = -2.\n",
        "\n",
        "What does this flow look like to you?"
      ],
      "metadata": {
        "id": "sOHZnTk_juGS"
      }
    },
    {
      "cell_type": "code",
      "execution_count": 1,
      "metadata": {
        "id": "xCfFE_RAhuMI"
      },
      "outputs": [],
      "source": []
    },
    {
      "cell_type": "markdown",
      "source": [
        "2. Now consider the velocity field given by:\n",
        "\n",
        "𝑢=−(𝑥′2−𝑦2)/𝑟4\n",
        "\n",
        "𝑣=−2𝑥′𝑦/𝑟4\n",
        "\n",
        "𝑟=𝑥′2+𝑦2‾‾‾‾‾‾‾‾√\n",
        "\n",
        "𝑥′=(𝑥+𝑡)\n",
        "\n",
        "Note that this is a function of time. Plot the velocity field as before at some chosen times. Compute the pathlines and streaklines for points along the line x=-2, and integrate this system for a total time of 5-6 seconds.\n",
        "\n",
        "Also, plot the streamlines at a few different times.\n",
        "\n"
      ],
      "metadata": {
        "id": "p6lbqcR8mES9"
      }
    }
  ]
}